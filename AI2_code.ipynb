{
 "cells": [
  {
   "cell_type": "markdown",
   "id": "712197ff-0c55-4465-8973-bddcd9b9a2ec",
   "metadata": {
    "id": "712197ff-0c55-4465-8973-bddcd9b9a2ec"
   },
   "source": [
    "# AI 2, Walid OUBRAIM\n",
    "## Glioma Grading: Clinical and Mutation Features\n",
    "The task is to design Artificial Neural Network classifier to predict Glioma grade using the provided dataset"
   ]
  },
  {
   "cell_type": "markdown",
   "id": "a0518bb0-0990-4080-b041-5d8df68f6b8c",
   "metadata": {
    "id": "a0518bb0-0990-4080-b041-5d8df68f6b8c"
   },
   "source": [
    "### Data and Preprocessing"
   ]
  },
  {
   "cell_type": "code",
   "execution_count": 253,
   "id": "9b31347d-b2a4-4aa2-b3f4-4dc5ee4d8784",
   "metadata": {
    "id": "9b31347d-b2a4-4aa2-b3f4-4dc5ee4d8784"
   },
   "outputs": [],
   "source": [
    "# Importing the libraries\n",
    "import numpy as np\n",
    "import matplotlib.pyplot as plt\n",
    "import pandas as pd\n",
    "\n",
    "# Importing the dataset\n",
    "dataset = pd.read_csv('TCGA_GBM_LGG_Mutations_all.csv')"
   ]
  },
  {
   "cell_type": "code",
   "execution_count": 254,
   "id": "6c1e0070-8cfb-4fed-81f8-e85d692becf2",
   "metadata": {
    "colab": {
     "base_uri": "https://localhost:8080/",
     "height": 255
    },
    "id": "6c1e0070-8cfb-4fed-81f8-e85d692becf2",
    "outputId": "6bf86074-d409-4639-85cb-f49f7683c067"
   },
   "outputs": [
    {
     "data": {
      "application/vnd.google.colaboratory.intrinsic+json": {
       "type": "dataframe",
       "variable_name": "dataset"
      },
      "text/html": [
       "\n",
       "  <div id=\"df-355077b5-7229-44fb-8654-5c279691e7b8\" class=\"colab-df-container\">\n",
       "    <div>\n",
       "<style scoped>\n",
       "    .dataframe tbody tr th:only-of-type {\n",
       "        vertical-align: middle;\n",
       "    }\n",
       "\n",
       "    .dataframe tbody tr th {\n",
       "        vertical-align: top;\n",
       "    }\n",
       "\n",
       "    .dataframe thead th {\n",
       "        text-align: right;\n",
       "    }\n",
       "</style>\n",
       "<table border=\"1\" class=\"dataframe\">\n",
       "  <thead>\n",
       "    <tr style=\"text-align: right;\">\n",
       "      <th></th>\n",
       "      <th>sample_id</th>\n",
       "      <th>Grade</th>\n",
       "      <th>Gender</th>\n",
       "      <th>Age_at_diagnosis</th>\n",
       "      <th>Race</th>\n",
       "      <th>IDH1</th>\n",
       "      <th>TP53</th>\n",
       "      <th>ATRX</th>\n",
       "      <th>PTEN</th>\n",
       "      <th>EGFR</th>\n",
       "      <th>...</th>\n",
       "      <th>FUBP1</th>\n",
       "      <th>RB1</th>\n",
       "      <th>NOTCH1</th>\n",
       "      <th>BCOR</th>\n",
       "      <th>CSMD3</th>\n",
       "      <th>SMARCA4</th>\n",
       "      <th>GRIN2A</th>\n",
       "      <th>IDH2</th>\n",
       "      <th>FAT4</th>\n",
       "      <th>PDGFRA</th>\n",
       "    </tr>\n",
       "  </thead>\n",
       "  <tbody>\n",
       "    <tr>\n",
       "      <th>0</th>\n",
       "      <td>1</td>\n",
       "      <td>LGG</td>\n",
       "      <td>Male</td>\n",
       "      <td>51 years 108 days</td>\n",
       "      <td>white</td>\n",
       "      <td>MUTATED</td>\n",
       "      <td>NOT_MUTATED</td>\n",
       "      <td>NOT_MUTATED</td>\n",
       "      <td>NOT_MUTATED</td>\n",
       "      <td>NOT_MUTATED</td>\n",
       "      <td>...</td>\n",
       "      <td>MUTATED</td>\n",
       "      <td>NOT_MUTATED</td>\n",
       "      <td>NOT_MUTATED</td>\n",
       "      <td>NOT_MUTATED</td>\n",
       "      <td>NOT_MUTATED</td>\n",
       "      <td>NOT_MUTATED</td>\n",
       "      <td>NOT_MUTATED</td>\n",
       "      <td>NOT_MUTATED</td>\n",
       "      <td>NOT_MUTATED</td>\n",
       "      <td>NOT_MUTATED</td>\n",
       "    </tr>\n",
       "    <tr>\n",
       "      <th>1</th>\n",
       "      <td>2</td>\n",
       "      <td>LGG</td>\n",
       "      <td>Male</td>\n",
       "      <td>38 years 261 days</td>\n",
       "      <td>white</td>\n",
       "      <td>MUTATED</td>\n",
       "      <td>NOT_MUTATED</td>\n",
       "      <td>NOT_MUTATED</td>\n",
       "      <td>NOT_MUTATED</td>\n",
       "      <td>NOT_MUTATED</td>\n",
       "      <td>...</td>\n",
       "      <td>NOT_MUTATED</td>\n",
       "      <td>NOT_MUTATED</td>\n",
       "      <td>NOT_MUTATED</td>\n",
       "      <td>NOT_MUTATED</td>\n",
       "      <td>NOT_MUTATED</td>\n",
       "      <td>NOT_MUTATED</td>\n",
       "      <td>NOT_MUTATED</td>\n",
       "      <td>NOT_MUTATED</td>\n",
       "      <td>NOT_MUTATED</td>\n",
       "      <td>NOT_MUTATED</td>\n",
       "    </tr>\n",
       "    <tr>\n",
       "      <th>2</th>\n",
       "      <td>3</td>\n",
       "      <td>LGG</td>\n",
       "      <td>Male</td>\n",
       "      <td>35 years 62 days</td>\n",
       "      <td>white</td>\n",
       "      <td>MUTATED</td>\n",
       "      <td>MUTATED</td>\n",
       "      <td>MUTATED</td>\n",
       "      <td>NOT_MUTATED</td>\n",
       "      <td>NOT_MUTATED</td>\n",
       "      <td>...</td>\n",
       "      <td>NOT_MUTATED</td>\n",
       "      <td>NOT_MUTATED</td>\n",
       "      <td>NOT_MUTATED</td>\n",
       "      <td>NOT_MUTATED</td>\n",
       "      <td>NOT_MUTATED</td>\n",
       "      <td>NOT_MUTATED</td>\n",
       "      <td>NOT_MUTATED</td>\n",
       "      <td>NOT_MUTATED</td>\n",
       "      <td>NOT_MUTATED</td>\n",
       "      <td>NOT_MUTATED</td>\n",
       "    </tr>\n",
       "    <tr>\n",
       "      <th>3</th>\n",
       "      <td>4</td>\n",
       "      <td>LGG</td>\n",
       "      <td>Female</td>\n",
       "      <td>32 years 283 days</td>\n",
       "      <td>white</td>\n",
       "      <td>MUTATED</td>\n",
       "      <td>MUTATED</td>\n",
       "      <td>MUTATED</td>\n",
       "      <td>NOT_MUTATED</td>\n",
       "      <td>NOT_MUTATED</td>\n",
       "      <td>...</td>\n",
       "      <td>NOT_MUTATED</td>\n",
       "      <td>NOT_MUTATED</td>\n",
       "      <td>NOT_MUTATED</td>\n",
       "      <td>NOT_MUTATED</td>\n",
       "      <td>NOT_MUTATED</td>\n",
       "      <td>NOT_MUTATED</td>\n",
       "      <td>NOT_MUTATED</td>\n",
       "      <td>NOT_MUTATED</td>\n",
       "      <td>MUTATED</td>\n",
       "      <td>NOT_MUTATED</td>\n",
       "    </tr>\n",
       "    <tr>\n",
       "      <th>4</th>\n",
       "      <td>5</td>\n",
       "      <td>LGG</td>\n",
       "      <td>Male</td>\n",
       "      <td>31 years 187 days</td>\n",
       "      <td>white</td>\n",
       "      <td>MUTATED</td>\n",
       "      <td>MUTATED</td>\n",
       "      <td>MUTATED</td>\n",
       "      <td>NOT_MUTATED</td>\n",
       "      <td>NOT_MUTATED</td>\n",
       "      <td>...</td>\n",
       "      <td>NOT_MUTATED</td>\n",
       "      <td>NOT_MUTATED</td>\n",
       "      <td>NOT_MUTATED</td>\n",
       "      <td>NOT_MUTATED</td>\n",
       "      <td>NOT_MUTATED</td>\n",
       "      <td>NOT_MUTATED</td>\n",
       "      <td>NOT_MUTATED</td>\n",
       "      <td>NOT_MUTATED</td>\n",
       "      <td>NOT_MUTATED</td>\n",
       "      <td>NOT_MUTATED</td>\n",
       "    </tr>\n",
       "  </tbody>\n",
       "</table>\n",
       "<p>5 rows × 25 columns</p>\n",
       "</div>\n",
       "    <div class=\"colab-df-buttons\">\n",
       "\n",
       "  <div class=\"colab-df-container\">\n",
       "    <button class=\"colab-df-convert\" onclick=\"convertToInteractive('df-355077b5-7229-44fb-8654-5c279691e7b8')\"\n",
       "            title=\"Convert this dataframe to an interactive table.\"\n",
       "            style=\"display:none;\">\n",
       "\n",
       "  <svg xmlns=\"http://www.w3.org/2000/svg\" height=\"24px\" viewBox=\"0 -960 960 960\">\n",
       "    <path d=\"M120-120v-720h720v720H120Zm60-500h600v-160H180v160Zm220 220h160v-160H400v160Zm0 220h160v-160H400v160ZM180-400h160v-160H180v160Zm440 0h160v-160H620v160ZM180-180h160v-160H180v160Zm440 0h160v-160H620v160Z\"/>\n",
       "  </svg>\n",
       "    </button>\n",
       "\n",
       "  <style>\n",
       "    .colab-df-container {\n",
       "      display:flex;\n",
       "      gap: 12px;\n",
       "    }\n",
       "\n",
       "    .colab-df-convert {\n",
       "      background-color: #E8F0FE;\n",
       "      border: none;\n",
       "      border-radius: 50%;\n",
       "      cursor: pointer;\n",
       "      display: none;\n",
       "      fill: #1967D2;\n",
       "      height: 32px;\n",
       "      padding: 0 0 0 0;\n",
       "      width: 32px;\n",
       "    }\n",
       "\n",
       "    .colab-df-convert:hover {\n",
       "      background-color: #E2EBFA;\n",
       "      box-shadow: 0px 1px 2px rgba(60, 64, 67, 0.3), 0px 1px 3px 1px rgba(60, 64, 67, 0.15);\n",
       "      fill: #174EA6;\n",
       "    }\n",
       "\n",
       "    .colab-df-buttons div {\n",
       "      margin-bottom: 4px;\n",
       "    }\n",
       "\n",
       "    [theme=dark] .colab-df-convert {\n",
       "      background-color: #3B4455;\n",
       "      fill: #D2E3FC;\n",
       "    }\n",
       "\n",
       "    [theme=dark] .colab-df-convert:hover {\n",
       "      background-color: #434B5C;\n",
       "      box-shadow: 0px 1px 3px 1px rgba(0, 0, 0, 0.15);\n",
       "      filter: drop-shadow(0px 1px 2px rgba(0, 0, 0, 0.3));\n",
       "      fill: #FFFFFF;\n",
       "    }\n",
       "  </style>\n",
       "\n",
       "    <script>\n",
       "      const buttonEl =\n",
       "        document.querySelector('#df-355077b5-7229-44fb-8654-5c279691e7b8 button.colab-df-convert');\n",
       "      buttonEl.style.display =\n",
       "        google.colab.kernel.accessAllowed ? 'block' : 'none';\n",
       "\n",
       "      async function convertToInteractive(key) {\n",
       "        const element = document.querySelector('#df-355077b5-7229-44fb-8654-5c279691e7b8');\n",
       "        const dataTable =\n",
       "          await google.colab.kernel.invokeFunction('convertToInteractive',\n",
       "                                                    [key], {});\n",
       "        if (!dataTable) return;\n",
       "\n",
       "        const docLinkHtml = 'Like what you see? Visit the ' +\n",
       "          '<a target=\"_blank\" href=https://colab.research.google.com/notebooks/data_table.ipynb>data table notebook</a>'\n",
       "          + ' to learn more about interactive tables.';\n",
       "        element.innerHTML = '';\n",
       "        dataTable['output_type'] = 'display_data';\n",
       "        await google.colab.output.renderOutput(dataTable, element);\n",
       "        const docLink = document.createElement('div');\n",
       "        docLink.innerHTML = docLinkHtml;\n",
       "        element.appendChild(docLink);\n",
       "      }\n",
       "    </script>\n",
       "  </div>\n",
       "\n",
       "\n",
       "<div id=\"df-82c89b83-f95a-4b4c-976f-6ffd2b1f009e\">\n",
       "  <button class=\"colab-df-quickchart\" onclick=\"quickchart('df-82c89b83-f95a-4b4c-976f-6ffd2b1f009e')\"\n",
       "            title=\"Suggest charts\"\n",
       "            style=\"display:none;\">\n",
       "\n",
       "<svg xmlns=\"http://www.w3.org/2000/svg\" height=\"24px\"viewBox=\"0 0 24 24\"\n",
       "     width=\"24px\">\n",
       "    <g>\n",
       "        <path d=\"M19 3H5c-1.1 0-2 .9-2 2v14c0 1.1.9 2 2 2h14c1.1 0 2-.9 2-2V5c0-1.1-.9-2-2-2zM9 17H7v-7h2v7zm4 0h-2V7h2v10zm4 0h-2v-4h2v4z\"/>\n",
       "    </g>\n",
       "</svg>\n",
       "  </button>\n",
       "\n",
       "<style>\n",
       "  .colab-df-quickchart {\n",
       "      --bg-color: #E8F0FE;\n",
       "      --fill-color: #1967D2;\n",
       "      --hover-bg-color: #E2EBFA;\n",
       "      --hover-fill-color: #174EA6;\n",
       "      --disabled-fill-color: #AAA;\n",
       "      --disabled-bg-color: #DDD;\n",
       "  }\n",
       "\n",
       "  [theme=dark] .colab-df-quickchart {\n",
       "      --bg-color: #3B4455;\n",
       "      --fill-color: #D2E3FC;\n",
       "      --hover-bg-color: #434B5C;\n",
       "      --hover-fill-color: #FFFFFF;\n",
       "      --disabled-bg-color: #3B4455;\n",
       "      --disabled-fill-color: #666;\n",
       "  }\n",
       "\n",
       "  .colab-df-quickchart {\n",
       "    background-color: var(--bg-color);\n",
       "    border: none;\n",
       "    border-radius: 50%;\n",
       "    cursor: pointer;\n",
       "    display: none;\n",
       "    fill: var(--fill-color);\n",
       "    height: 32px;\n",
       "    padding: 0;\n",
       "    width: 32px;\n",
       "  }\n",
       "\n",
       "  .colab-df-quickchart:hover {\n",
       "    background-color: var(--hover-bg-color);\n",
       "    box-shadow: 0 1px 2px rgba(60, 64, 67, 0.3), 0 1px 3px 1px rgba(60, 64, 67, 0.15);\n",
       "    fill: var(--button-hover-fill-color);\n",
       "  }\n",
       "\n",
       "  .colab-df-quickchart-complete:disabled,\n",
       "  .colab-df-quickchart-complete:disabled:hover {\n",
       "    background-color: var(--disabled-bg-color);\n",
       "    fill: var(--disabled-fill-color);\n",
       "    box-shadow: none;\n",
       "  }\n",
       "\n",
       "  .colab-df-spinner {\n",
       "    border: 2px solid var(--fill-color);\n",
       "    border-color: transparent;\n",
       "    border-bottom-color: var(--fill-color);\n",
       "    animation:\n",
       "      spin 1s steps(1) infinite;\n",
       "  }\n",
       "\n",
       "  @keyframes spin {\n",
       "    0% {\n",
       "      border-color: transparent;\n",
       "      border-bottom-color: var(--fill-color);\n",
       "      border-left-color: var(--fill-color);\n",
       "    }\n",
       "    20% {\n",
       "      border-color: transparent;\n",
       "      border-left-color: var(--fill-color);\n",
       "      border-top-color: var(--fill-color);\n",
       "    }\n",
       "    30% {\n",
       "      border-color: transparent;\n",
       "      border-left-color: var(--fill-color);\n",
       "      border-top-color: var(--fill-color);\n",
       "      border-right-color: var(--fill-color);\n",
       "    }\n",
       "    40% {\n",
       "      border-color: transparent;\n",
       "      border-right-color: var(--fill-color);\n",
       "      border-top-color: var(--fill-color);\n",
       "    }\n",
       "    60% {\n",
       "      border-color: transparent;\n",
       "      border-right-color: var(--fill-color);\n",
       "    }\n",
       "    80% {\n",
       "      border-color: transparent;\n",
       "      border-right-color: var(--fill-color);\n",
       "      border-bottom-color: var(--fill-color);\n",
       "    }\n",
       "    90% {\n",
       "      border-color: transparent;\n",
       "      border-bottom-color: var(--fill-color);\n",
       "    }\n",
       "  }\n",
       "</style>\n",
       "\n",
       "  <script>\n",
       "    async function quickchart(key) {\n",
       "      const quickchartButtonEl =\n",
       "        document.querySelector('#' + key + ' button');\n",
       "      quickchartButtonEl.disabled = true;  // To prevent multiple clicks.\n",
       "      quickchartButtonEl.classList.add('colab-df-spinner');\n",
       "      try {\n",
       "        const charts = await google.colab.kernel.invokeFunction(\n",
       "            'suggestCharts', [key], {});\n",
       "      } catch (error) {\n",
       "        console.error('Error during call to suggestCharts:', error);\n",
       "      }\n",
       "      quickchartButtonEl.classList.remove('colab-df-spinner');\n",
       "      quickchartButtonEl.classList.add('colab-df-quickchart-complete');\n",
       "    }\n",
       "    (() => {\n",
       "      let quickchartButtonEl =\n",
       "        document.querySelector('#df-82c89b83-f95a-4b4c-976f-6ffd2b1f009e button');\n",
       "      quickchartButtonEl.style.display =\n",
       "        google.colab.kernel.accessAllowed ? 'block' : 'none';\n",
       "    })();\n",
       "  </script>\n",
       "</div>\n",
       "\n",
       "    </div>\n",
       "  </div>\n"
      ],
      "text/plain": [
       "   sample_id Grade  Gender   Age_at_diagnosis   Race     IDH1         TP53  \\\n",
       "0          1   LGG    Male  51 years 108 days  white  MUTATED  NOT_MUTATED   \n",
       "1          2   LGG    Male  38 years 261 days  white  MUTATED  NOT_MUTATED   \n",
       "2          3   LGG    Male   35 years 62 days  white  MUTATED      MUTATED   \n",
       "3          4   LGG  Female  32 years 283 days  white  MUTATED      MUTATED   \n",
       "4          5   LGG    Male  31 years 187 days  white  MUTATED      MUTATED   \n",
       "\n",
       "          ATRX         PTEN         EGFR  ...        FUBP1          RB1  \\\n",
       "0  NOT_MUTATED  NOT_MUTATED  NOT_MUTATED  ...      MUTATED  NOT_MUTATED   \n",
       "1  NOT_MUTATED  NOT_MUTATED  NOT_MUTATED  ...  NOT_MUTATED  NOT_MUTATED   \n",
       "2      MUTATED  NOT_MUTATED  NOT_MUTATED  ...  NOT_MUTATED  NOT_MUTATED   \n",
       "3      MUTATED  NOT_MUTATED  NOT_MUTATED  ...  NOT_MUTATED  NOT_MUTATED   \n",
       "4      MUTATED  NOT_MUTATED  NOT_MUTATED  ...  NOT_MUTATED  NOT_MUTATED   \n",
       "\n",
       "        NOTCH1         BCOR        CSMD3      SMARCA4       GRIN2A  \\\n",
       "0  NOT_MUTATED  NOT_MUTATED  NOT_MUTATED  NOT_MUTATED  NOT_MUTATED   \n",
       "1  NOT_MUTATED  NOT_MUTATED  NOT_MUTATED  NOT_MUTATED  NOT_MUTATED   \n",
       "2  NOT_MUTATED  NOT_MUTATED  NOT_MUTATED  NOT_MUTATED  NOT_MUTATED   \n",
       "3  NOT_MUTATED  NOT_MUTATED  NOT_MUTATED  NOT_MUTATED  NOT_MUTATED   \n",
       "4  NOT_MUTATED  NOT_MUTATED  NOT_MUTATED  NOT_MUTATED  NOT_MUTATED   \n",
       "\n",
       "          IDH2         FAT4       PDGFRA  \n",
       "0  NOT_MUTATED  NOT_MUTATED  NOT_MUTATED  \n",
       "1  NOT_MUTATED  NOT_MUTATED  NOT_MUTATED  \n",
       "2  NOT_MUTATED  NOT_MUTATED  NOT_MUTATED  \n",
       "3  NOT_MUTATED      MUTATED  NOT_MUTATED  \n",
       "4  NOT_MUTATED  NOT_MUTATED  NOT_MUTATED  \n",
       "\n",
       "[5 rows x 25 columns]"
      ]
     },
     "execution_count": 254,
     "metadata": {},
     "output_type": "execute_result"
    }
   ],
   "source": [
    "dataset.head()"
   ]
  },
  {
   "cell_type": "code",
   "execution_count": 255,
   "id": "d082a9f9-60e3-4fb6-b240-5e8f799f37d4",
   "metadata": {
    "colab": {
     "base_uri": "https://localhost:8080/"
    },
    "id": "d082a9f9-60e3-4fb6-b240-5e8f799f37d4",
    "outputId": "1e69ee4e-b509-43ef-b1c5-59b70c5a15da"
   },
   "outputs": [
    {
     "name": "stdout",
     "output_type": "stream",
     "text": [
      "Rows, Columns : (846, 25)\n",
      "The dataset does not contain any NaN values.\n",
      "sample_id           0\n",
      "Grade               0\n",
      "Gender              0\n",
      "Age_at_diagnosis    0\n",
      "Race                0\n",
      "IDH1                0\n",
      "TP53                0\n",
      "ATRX                0\n",
      "PTEN                0\n",
      "EGFR                0\n",
      "CIC                 0\n",
      "MUC16               0\n",
      "PIK3CA              0\n",
      "NF1                 0\n",
      "PIK3R1              0\n",
      "FUBP1               0\n",
      "RB1                 0\n",
      "NOTCH1              0\n",
      "BCOR                0\n",
      "CSMD3               0\n",
      "SMARCA4             0\n",
      "GRIN2A              0\n",
      "IDH2                0\n",
      "FAT4                0\n",
      "PDGFRA              0\n",
      "dtype: int64\n"
     ]
    }
   ],
   "source": [
    "# Representing the dimensionality of the DataFrame\n",
    "print(\"Rows, Columns :\",dataset.shape)\n",
    "\n",
    "# Check if the dataset has null values\n",
    "has_nan = dataset.isnull().values.any()\n",
    "if has_nan:\n",
    "    print(\"The dataset contains NaN values.\")\n",
    "else:\n",
    "    print(\"The dataset does not contain any NaN values.\")\n",
    "\n",
    "# Display columns with number of null values\n",
    "missing_values = dataset.isnull().sum()\n",
    "print(missing_values)"
   ]
  },
  {
   "cell_type": "code",
   "execution_count": 256,
   "id": "7dab86db-b115-4118-a2b6-71f467300433",
   "metadata": {
    "colab": {
     "base_uri": "https://localhost:8080/"
    },
    "id": "7dab86db-b115-4118-a2b6-71f467300433",
    "outputId": "a70fb76b-1286-4ab2-d8b2-d1d33a83fc74"
   },
   "outputs": [
    {
     "name": "stdout",
     "output_type": "stream",
     "text": [
      "sample_id: [  1   2   3   4   5   6   7   8   9  10  11  12  13  14  15  16  17  18\n",
      "  19  20  21  22  23  24  25  26  27  28  29  30  31  32  33  34  35  36\n",
      "  37  38  39  40  41  42  43  44  45  46  47  48  49  50  51  52  53  54\n",
      "  55  56  57  58  59  60  61  62  63  64  65  66  67  68  69  70  71  72\n",
      "  73  74  75  76  77  78  79  80  81  82  83  84  85  86  87  88  89  90\n",
      "  91  92  93  94  95  96  97  98  99 100 101 102 103 104 105 106 107 108\n",
      " 109 110 111 112 113 114 115 116 117 118 119 120 121 122 123 124 125 126\n",
      " 127 128 129 130 131 132 133 134 135 136 137 138 139 140 141 142 143 144\n",
      " 145 146 147 148 149 150 151 152 153 154 155 156 157 158 159 160 161 162\n",
      " 163 164 165 166 167 168 169 170 171 172 173 174 175 176 177 178 179 180\n",
      " 181 182 183 184 185 186 187 188 189 190 191 192 193 194 195 196 197 198\n",
      " 199 200 201 202 203 204 205 206 207 208 209 210 211 212 213 214 215 216\n",
      " 217 218 219 220 221 222 223 224 225 226 227 228 229 230 231 232 233 234\n",
      " 235 236 237 238 239 240 241 242 243 244 245 246 247 248 249 250 251 252\n",
      " 253 254 255 256 257 258 259 260 261 262 263 264 265 266 267 268 269 270\n",
      " 271 272 273 274 275 276 277 278 279 280 281 282 283 284 285 286 287 288\n",
      " 289 290 291 292 293 294 295 296 297 298 299 300 301 302 303 304 305 306\n",
      " 307 308 309 310 311 312 313 314 315 316 317 318 319 320 321 322 323 324\n",
      " 325 326 327 328 329 330 331 332 333 334 335 336 337 338 339 340 341 342\n",
      " 343 344 345 346 347 348 349 350 351 352 353 354 355 356 357 358 359 360\n",
      " 361 362 363 364 365 366 367 368 369 370 371 372 373 374 375 376 377 378\n",
      " 379 380 381 382 383 384 385 386 387 388 389 390 391 392 393 394 395 396\n",
      " 397 398 399 400 401 402 403 404 405 406 407 408 409 410 411 412 413 414\n",
      " 415 416 417 418 419 420 421 422 423 424 425 426 427 428 429 430 431 432\n",
      " 433 434 435 436 437 438 439 440 441 442 443 444 445 446 447 448 449 450\n",
      " 451 452 453 454 455 456 457 458 459 460 461 462 463 464 465 466 467 468\n",
      " 469 470 471 472 473 474 475 476 477 478 479 480 481 482 483 484 485 486\n",
      " 487 488 489 490 491 492 493 494 495 496 497 498 499 500 501 502 503 504\n",
      " 505 506 507 508 509 510 511 512 513 514 515 516 517 518 519 520 521 522\n",
      " 523 524 525 526 527 528 529 530 531 532 533 534 535 536 537 538 539 540\n",
      " 541 542 543 544 545 546 547 548 549 550 551 552 553 554 555 556 557 558\n",
      " 559 560 561 562 563 564 565 566 567 568 569 570 571 572 573 574 575 576\n",
      " 577 578 579 580 581 582 583 584 585 586 587 588 589 590 591 592 593 594\n",
      " 595 596 597 598 599 600 601 602 603 604 605 606 607 608 609 610 611 612\n",
      " 613 614 615 616 617 618 619 620 621 622 623 624 625 626 627 628 629 630\n",
      " 631 632 633 634 635 636 637 638 639 640 641 642 643 644 645 646 647 648\n",
      " 649 650 651 652 653 654 655 656 657 658 659 660 661 662 663 664 665 666\n",
      " 667 668 669 670 671 672 673 674 675 676 677 678 679 680 681 682 683 684\n",
      " 685 686 687 688 689 690 691 692 693 694 695 696 697 698 699 700 701 702\n",
      " 703 704 705 706 707 708 709 710 711 712 713 714 715 716 717 718 719 720\n",
      " 721 722 723 724 725 726 727 728 729 730 731 732 733 734 735 736 737 738\n",
      " 739 740 741 742 743 744 745 746 747 748 749 750 751 752 753 754 755 756\n",
      " 757 758 759 760 761 762 763 764 765 766 767 768 769 770 771 772 773 774\n",
      " 775 776 777 778 779 780 781 782 783 784 785 786 787 788 789 790 791 792\n",
      " 793 794 795 796 797 798 799 800 801 802 803 804 805 806 807 808 809 810\n",
      " 811 812 813 814 815 816 817 818 819 820 821 822 823 824 825 826 827 828\n",
      " 829 830 831 832 833 834 835 836 837 838 839 840 841 842 843 844 845 846]\n",
      "Grade: ['LGG' 'GBM']\n",
      "Gender: ['Male' 'Female' '--']\n",
      "Age_at_diagnosis: ['51 years 108 days' '38 years 261 days' '35 years 62 days'\n",
      " '32 years 283 days' '31 years 187 days' '33 years 78 days'\n",
      " '35 years 68 days' '44 years 239 days' '33 years 350 days' '87 years'\n",
      " '51 years 328 days' '54 years 95 days' '52 years 214 days'\n",
      " '47 years 123 days' '34 years 132 days' '40 years 192 days'\n",
      " '53 years 352 days' '41 years 70 days' '43 years 161 days'\n",
      " '37 years 159 days' '47 years 173 days' '31 years 8 days'\n",
      " '25 years 191 days' '66 years 305 days' '56 years 250 days'\n",
      " '35 years 362 days' '51 years 363 days' '37 years 32 days'\n",
      " '54 years 183 days' '32 years 76 days' '65 years 28 days'\n",
      " '43 years 131 days' '51 years 59 days' '43 years 221 days'\n",
      " '25 years 214 days' '45 years 24 days' '50 years 153 days'\n",
      " '27 years 166 days' '53 years 252 days' '46 years 144 days'\n",
      " '24 years 239 days' '--' '34 years 70 days' '29 years 198 days'\n",
      " '45 years 124 days' '62 years 90 days' '46 years 224 days'\n",
      " '36 years 247 days' '62 years 202 days' '70 years 159 days'\n",
      " '53 years 41 days' '48 years 124 days' '40 years 69 days'\n",
      " '40 years 7 days' '20 years 359 days' '57 years 200 days'\n",
      " '38 years 322 days' '52 years 192 days' '56 years 104 days'\n",
      " '59 years 275 days' '67 years 107 days' '48 years 346 days'\n",
      " '59 years 254 days' '58 years 147 days' '27 years 247 days'\n",
      " '51 years 230 days' '74 years 11 days' '52 years 230 days'\n",
      " '61 years 62 days' '66 years 146 days' '42 years 32 days'\n",
      " '31 years 344 days' '48 years 268 days' '33 years 340 days'\n",
      " '34 years 213 days' '24 years 54 days' '55 years 48 days'\n",
      " '27 years 323 days' '29 years 32 days' '39 years 131 days'\n",
      " '70 years 3 days' '30 years 338 days' '39 years 178 days'\n",
      " '25 years 41 days' '48 years 160 days' '57 years 17 days'\n",
      " '34 years 307 days' '58 years 137 days' '55 years 208 days'\n",
      " '60 years 49 days' '38 years 13 days' '56 years 113 days'\n",
      " '54 years 180 days' '31 years 152 days' '54 years 146 days'\n",
      " '52 years 241 days' '33 years 54 days' '42 years 173 days'\n",
      " '20 years 75 days' '64 years 106 days' '29 years 232 days'\n",
      " '36 years 222 days' '31 years 362 days' '36 years 67 days'\n",
      " '32 years 173 days' '38 years 292 days' '29 years 298 days'\n",
      " '41 years 76 days' '35 years 189 days' '33 years 39 days'\n",
      " '32 years 50 days' '49 years 276 days' '69 years 217 days'\n",
      " '14 years 154 days' '33 years 349 days' '47 years 92 days'\n",
      " '33 years 58 days' '63 years 364 days' '62 years 205 days'\n",
      " '37 years 83 days' '53 years 183 days' '53 years 74 days'\n",
      " '45 years 76 days' '33 years 331 days' '53 years 359 days'\n",
      " '52 years 156 days' '64 years 304 days' '71 years 70 days'\n",
      " '40 years 300 days' '36 years 354 days' '25 years 249 days'\n",
      " '63 years 170 days' '40 years 310 days' '47 years 215 days'\n",
      " '73 years 241 days' '24 years 51 days' '48 years 342 days'\n",
      " '41 years 325 days' '36 years 189 days' '45 years 334 days'\n",
      " '44 years 204 days' '27 years 6 days' '50 years 181 days'\n",
      " '42 years 141 days' '40 years 248 days' '62 years 192 days'\n",
      " '33 years 195 days' '46 years 42 days' '41 years 117 days'\n",
      " '47 years 333 days' '56 years 159 days' '38 years 64 days'\n",
      " '60 years 64 days' '29 years 150 days' '59 years 196 days'\n",
      " '44 years 66 days' '69 years 60 days' '63 years 253 days'\n",
      " '43 years 142 days' '61 years 316 days' '39 years 66 days'\n",
      " '31 years 315 days' '51 years 164 days' '41 years 203 days'\n",
      " '60 years 360 days' '74 years 158 days' '63 years 81 days'\n",
      " '66 years 170 days' '51 years 312 days' '39 years 62 days'\n",
      " '38 years 111 days' '37 years 92 days' '30 years 32 days'\n",
      " '54 years 143 days' '36 years 357 days' '48 years 197 days'\n",
      " '29 years 81 days' '32 years 135 days' '44 years 35 days'\n",
      " '30 years 329 days' '57 years 287 days' '19 years 55 days'\n",
      " '70 years 242 days' '63 years 67 days' '41 years 255 days'\n",
      " '29 years 291 days' '42 years 318 days' '51 years 172 days'\n",
      " '38 years 25 days' '28 years 344 days' '32 years 166 days'\n",
      " '26 years 43 days' '67 years 329 days' '40 years 326 days'\n",
      " '59 years 295 days' '58 years 16 days' '56 years 171 days'\n",
      " '20 years 276 days' '49 years 296 days' '37 years 31 days'\n",
      " '48 years 243 days' '71 years 227 days' '43 years 316 days'\n",
      " '27 years 309 days' '25 years 78 days' '30 years 126 days'\n",
      " '47 years 335 days' '31 years 262 days' '30 years 295 days'\n",
      " '30 years 276 days' '24 years 146 days' '41 years 66 days'\n",
      " '34 years 189 days' '56 years 155 days' '39 years 348 days'\n",
      " '23 years 3 days' '31 years 273 days' '17 years 271 days'\n",
      " '64 years 110 days' '27 years 221 days' '69 years 64 days'\n",
      " '37 years 51 days' '44 years 92 days' '25 years 97 days'\n",
      " '29 years 235 days' '26 years 209 days' '47 years 294 days'\n",
      " '39 years 252 days' '35 years 26 days' '33 years 287 days'\n",
      " '74 years 204 days' '50 years 167 days' '65 years 314 days'\n",
      " '60 years 116 days' '34 years 346 days' '44 years 229 days'\n",
      " '21 years 243 days' '55 years 87 days' '43 years 361 days'\n",
      " '36 years 49 days' '70 years 100 days' '23 years 352 days'\n",
      " '43 years 195 days' '30 years 264 days' '38 years 140 days'\n",
      " '34 years 188 days' '55 years 92 days' '30 years 238 days'\n",
      " '61 years 68 days' '44 years 344 days' '35 years 238 days'\n",
      " '68 years 129 days' '44 years 206 days' '38 years 89 days'\n",
      " '36 years 304 days' '52 years 32 days' '36 years 183 days'\n",
      " '33 years 176 days' '60 years 119 days' '44 years 90 days'\n",
      " '58 years 157 days' '33 years 364 days' '62 years 235 days'\n",
      " '44 years 226 days' '36 years 311 days' '29 years 132 days'\n",
      " '25 years 282 days' '20 years 307 days' '61 years 305 days'\n",
      " '41 years 222 days' '47 years 224 days' '59 years 212 days'\n",
      " '48 years 311 days' '38 years 24 days' '27 years 58 days'\n",
      " '58 years 15 days' '26 years 118 days' '44 years 209 days'\n",
      " '32 years 196 days' '22 years 305 days' '25 years 316 days'\n",
      " '34 years 27 days' '24 years 278 days' '30 years 348 days'\n",
      " '39 years 280 days' '22 years 236 days' '53 years 286 days'\n",
      " '30 years 355 days' '37 years 239 days' '36 years 73 days'\n",
      " '41 years 314 days' '57 years 201 days' '52 years 243 days'\n",
      " '31 years 346 days' '32 years 167 days' '44 years 131 days'\n",
      " '40 years 106 days' '44 years 263 days' '39 years 5 days'\n",
      " '62 years 93 days' '45 years 296 days' '48 years 131 days'\n",
      " '49 years 187 days' '38 years 194 days' '28 years 115 days'\n",
      " '38 years 273 days' '37 years 81 days' '41 years 179 days'\n",
      " '60 years 15 days' '50 years 232 days' '75 years 292 days'\n",
      " '43 years 143 days' '52 years 63 days' '38 years 333 days'\n",
      " '66 years 344 days' '30 years 57 days' '59 years 262 days'\n",
      " '35 years 37 days' '38 years 203 days' '42 years 310 days'\n",
      " '59 years 166 days' '26 years 94 days' '58 years 266 days'\n",
      " '31 years 10 days' '30 years 161 days' '45 years 231 days'\n",
      " '37 years 166 days' '34 years 162 days' '34 years 339 days'\n",
      " '32 years 53 days' '66 years 176 days' '46 years 89 days'\n",
      " '38 years 326 days' '33 years 213 days' '40 years 61 days'\n",
      " '52 years 145 days' '59 years 359 days' '58 years 55 days'\n",
      " '43 years 281 days' '33 years 192 days' '55 years 40 days'\n",
      " '43 years 226 days' '60 years 123 days' '33 years 332 days'\n",
      " '48 years 80 days' '70 years 205 days' '53 years 197 days'\n",
      " '66 years 136 days' '36 years 275 days' '40 years 49 days'\n",
      " '73 years 103 days' '36 years 165 days' '74 years 56 days'\n",
      " '43 years 145 days' '40 years 323 days' '38 years 128 days'\n",
      " '54 years 291 days' '63 years 54 days' '62 years 303 days'\n",
      " '35 years 53 days' '39 years 174 days' '29 years 341 days'\n",
      " '46 years 333 days' '46 years 110 days' '51 years 329 days'\n",
      " '54 years 221 days' '42 years 91 days' '64 years 108 days'\n",
      " '29 years 220 days' '65 years 195 days' '41 years 91 days'\n",
      " '31 years 206 days' '58 years 5 days' '54 years 318 days'\n",
      " '28 years 26 days' '20 years 116 days' '34 years 160 days'\n",
      " '54 years 198 days' '45 years 259 days' '48 years 325 days'\n",
      " '29 years 86 days' '22 years 8 days' '32 years 161 days'\n",
      " '40 years 50 days' '61 years 47 days' '57 years 276 days'\n",
      " '54 years 100 days' '56 years 317 days' '34 years 139 days'\n",
      " '27 years 289 days' '37 years 149 days' '43 years 332 days'\n",
      " '41 years 10 days' '33 years 104 days' '39 years 35 days'\n",
      " '31 years 300 days' '67 years 219 days' '30 years 140 days'\n",
      " '48 years 212 days' '50 years 302 days' '45 years 34 days'\n",
      " '47 years 299 days' '32 years 158 days' '26 years 171 days'\n",
      " '29 years 213 days' '28 years 79 days' '66 years 16 days'\n",
      " '39 years 304 days' '33 years 238 days' '60 years 75 days'\n",
      " '35 years 65 days' '35 years 45 days' '58 years 168 days'\n",
      " '26 years 50 days' '30 years 113 days' '38 years 82 days'\n",
      " '35 years 325 days' '39 years 291 days' '55 years 306 days'\n",
      " '49 years 337 days' '50 years 59 days' '52 years 163 days'\n",
      " '51 years 121 days' '61 years 285 days' '52 years 149 days'\n",
      " '35 years 66 days' '47 years 266 days' '35 years 70 days'\n",
      " '31 years 105 days' '31 years 35 days' '37 years 50 days'\n",
      " '37 years 97 days' '42 years 249 days' '32 years 116 days'\n",
      " '61 years 22 days' '48 years 78 days' '34 years 42 days'\n",
      " '30 years 252 days' '30 years 86 days' '28 years 195 days'\n",
      " '47 years 226 days' '35 years 91 days' '23 years 171 days'\n",
      " '49 years 264 days' '36 years 78 days' '54 years 268 days'\n",
      " '22 years 300 days' '42 years 5 days' '28 years 213 days'\n",
      " '25 years 232 days' '66 years 3 days' '46 years 181 days'\n",
      " '57 years 310 days' '43 years 22 days' '49 years 309 days'\n",
      " '33 years 99 days' '27 years 306 days' '62 years 166 days'\n",
      " '55 years 153 days' '37 years 285 days' '37 years 107 days'\n",
      " '32 years 122 days' '38 years 143 days' '42 years 289 days'\n",
      " '47 years 165 days' '54 years 227 days' '29 years 49 days'\n",
      " '39 years 359 days' '28 years 249 days' '23 years 108 days'\n",
      " '21 years 276 days' '38 years 229 days' '49 years 302 days'\n",
      " '38 years 308 days' '22 years 205 days' '67 years 215 days'\n",
      " '73 years 329 days' '62 years 100 days' '57 years 314 days'\n",
      " '30 years 334 days' '24 years 181 days' '20 years 84 days'\n",
      " '69 years 124 days' '79 years 39 days' '68 years 7 days'\n",
      " '76 years 5 days' '82 years 14 days' '58 years 9 days'\n",
      " '52 years 251 days' '81 years 217 days' '74 years 172 days'\n",
      " '76 years 87 days' '57 years 110 days' '67 years 121 days'\n",
      " '63 years 313 days' '64 years 143 days' '69 years 50 days'\n",
      " '66 years 28 days' '54 years 347 days' '60 years 114 days'\n",
      " '45 years 230 days' '36 years 219 days' '49 years 174 days'\n",
      " '69 years 219 days' '54 years 340 days' '58 years 327 days'\n",
      " '61 years 183 days' '64 years 191 days' '65 years 309 days'\n",
      " '60 years 298 days' '53 years 309 days' '39 years 193 days'\n",
      " '58 years 227 days' '56 years 172 days' '65 years 344 days'\n",
      " '36 years 59 days' '72 years 192 days' '48 years 348 days'\n",
      " '39 years 157 days' '54 years 176 days' '63 years 333 days'\n",
      " '66 years 159 days' '52 years 97 days' '64 years 298 days'\n",
      " '89 years 105 days' '54 years 242 days' '60 years 262 days'\n",
      " '77 years 116 days' '60 years 264 days' '80 years 61 days'\n",
      " '51 years 264 days' '53 years 145 days' '43 years 313 days'\n",
      " '74 years 144 days' '76 years 118 days' '49 years 228 days'\n",
      " '48 years 333 days' '68 years 334 days' '74 years 359 days'\n",
      " '69 years 211 days' '64 years 192 days' '58 years 144 days'\n",
      " '47 years 88 days' '61 years 282 days' '75 years 194 days'\n",
      " '52 years 246 days' '47 years 199 days' '21 years 288 days'\n",
      " '72 years 169 days' '68 years 108 days' '67 years' '52 years 238 days'\n",
      " '59 years 11 days' '59 years 149 days' '48 years 362 days'\n",
      " '76 years 58 days' '72 years 193 days' '51 years 113 days'\n",
      " '67 years 187 days' '82 years 115 days' '64 years 209 days'\n",
      " '75 years 265 days' '85 years 221 days' '73 years 105 days'\n",
      " '78 years 273 days' '45 years 136 days' '42 years 225 days'\n",
      " '53 years 299 days' '68 years 290 days' '43 years 245 days'\n",
      " '59 years 289 days' '52 years 137 days' '61 years 244 days'\n",
      " '40 years 207 days' '63 years 263 days' '63 years 307 days'\n",
      " '70 years 98 days' '59 years 362 days' '56 years 101 days'\n",
      " '62 years 190 days' '24 years 83 days' '72 years 345 days'\n",
      " '67 years 161 days' '54 years 200 days' '86 years 155 days'\n",
      " '62 years 222 days' '63 years 97 days' '58 years 200 days'\n",
      " '60 years 5 days' '67 years 17 days' '23 years 310 days'\n",
      " '58 years 59 days' '64 years 18 days' '65 years 37 days'\n",
      " '61 years 32 days' '52 years 161 days' '77 years 139 days'\n",
      " '58 years 280 days' '78 years 264 days' '63 years 122 days'\n",
      " '63 years 86 days' '23 years 133 days' '65 years 94 days'\n",
      " '50 years 79 days' '55 years 209 days' '60 years 258 days'\n",
      " '62 years 220 days' '69 years 95 days' '56 years 187 days'\n",
      " '76 years 72 days' '76 years 252 days' '86 years 8 days'\n",
      " '69 years 80 days' '59 years 219 days' '75 years 337 days'\n",
      " '57 years 202 days' '69 years 257 days' '45 years 226 days'\n",
      " '47 years 130 days' '74 years 57 days' '78 years 93 days'\n",
      " '59 years 64 days' '21 years 266 days' '81 years 34 days'\n",
      " '70 years 60 days' '62 years 153 days' '75 years 191 days'\n",
      " '60 years 136 days' '63 years 53 days' '61 years 52 days'\n",
      " '47 years 71 days' '76 years 150 days' '84 years 287 days'\n",
      " '77 years 153 days' '48 years 182 days' '69 years 223 days'\n",
      " '56 years 12 days' '76 years 171 days' '70 years 117 days'\n",
      " '34 years 267 days' '68 years 341 days' '54 years 216 days'\n",
      " '74 years 313 days' '73 years 193 days' '57 years 112 days'\n",
      " '44 years 230 days' '83 years 265 days' '74 years 291 days'\n",
      " '51 years 275 days' '52 years 60 days' '73 years 102 days'\n",
      " '81 years 307 days' '78 years 94 days' '57 years 312 days'\n",
      " '53 years 147 days' '50 years 330 days' '78 years 56 days'\n",
      " '76 years 236 days' '57 years 118 days' '36 years 108 days'\n",
      " '72 years 284 days' '31 years 11 days' '65 years 66 days'\n",
      " '63 years 201 days' '49 years 351 days' '59 years 311 days'\n",
      " '69 years 232 days' '62 years 304 days' '52 years 270 days'\n",
      " '56 years 294 days' '81 years 168 days' '40 years 293 days'\n",
      " '81 years 319 days' '50 years 171 days' '38 years 8 days'\n",
      " '48 years 183 days' '51 years 86 days' '66 years 341 days'\n",
      " '71 years 315 days' '24 years 156 days' '63 years 195 days'\n",
      " '69 years 116 days' '78 years 7 days' '30 years 155 days'\n",
      " '52 years 288 days' '65 years 57 days' '78 years 271 days'\n",
      " '61 years 37 days' '50 years 173 days' '39 years 57 days'\n",
      " '66 years 81 days' '49 years 6 days' '54 years 78 days'\n",
      " '58 years 48 days' '73 years 4 days' '53 years 303 days'\n",
      " '63 years 292 days' '66 years 191 days' '49 years 322 days'\n",
      " '59 years 335 days' '54 years 327 days' '57 years 274 days'\n",
      " '59 years 157 days' '44 years 55 days' '58 years 14 days'\n",
      " '65 years 18 days' '67 years 34 days' '75 years 172 days'\n",
      " '88 years 209 days' '53 years 85 days' '75 years 126 days'\n",
      " '66 years 269 days' '51 years 51 days' '40 years 360 days'\n",
      " '58 years 6 days' '57 years 29 days' '55 years 144 days'\n",
      " '40 years 268 days' '40 years 206 days' '54 years 89 days'\n",
      " '53 years 136 days' '56 years 9 days' '59 years 306 days'\n",
      " '75 years 118 days' '59 years 10 days' '44 years 135 days'\n",
      " '46 years 236 days' '68 years 248 days' '30 years 340 days'\n",
      " '36 years 302 days' '78 years 270 days' '83 years 235 days'\n",
      " '51 years 201 days' '63 years 118 days' '59 years 227 days'\n",
      " '53 years 233 days' '74 years 83 days' '60 years 246 days'\n",
      " '54 years 295 days' '63 years 9 days' '58 years 308 days'\n",
      " '60 years 274 days' '71 years 257 days' '75 years 78 days'\n",
      " '50 years 309 days' '67 years 6 days' '60 years 358 days'\n",
      " '65 years 143 days' '51 years 90 days' '45 years 301 days'\n",
      " '39 years 316 days' '70 years 245 days' '73 years 133 days'\n",
      " '65 years 360 days' '72 years 251 days' '61 years 177 days'\n",
      " '65 years 22 days' '30 years 327 days' '64 years 50 days'\n",
      " '55 years 267 days' '79 years 123 days' '74 years 294 days'\n",
      " '63 years 24 days' '81 years 21 days' '53 years 86 days'\n",
      " '69 years 343 days' '60 years 342 days' '55 years 214 days'\n",
      " '75 years 342 days' '47 years 349 days' '71 years 148 days'\n",
      " '25 years 82 days' '61 years 247 days' '47 years 302 days'\n",
      " '50 years 129 days' '72 years 97 days' '31 years 7 days'\n",
      " '86 years 216 days' '38 years 214 days' '72 years 302 days'\n",
      " '55 years 46 days' '66 years 320 days' '55 years 361 days'\n",
      " '72 years 57 days' '33 years 7 days' '83 years 114 days'\n",
      " '43 years 259 days' '68 years 224 days' '79 years 183 days'\n",
      " '67 years 326 days' '49 years 298 days' '66 years 256 days'\n",
      " '68 years 221 days' '47 years 52 days' '61 years 218 days'\n",
      " '49 years 157 days' '67 years 120 days' '32 years 268 days'\n",
      " '65 years 41 days' '66 years 213 days' '62 years 281 days'\n",
      " '50 years 16 days' '34 years 111 days' '61 years 11 days'\n",
      " '77 years 353 days' '54 years 101 days' '51 years 32 days'\n",
      " '53 years 8 days' '78 years 253 days' '46 years 337 days'\n",
      " '52 years 244 days' '48 years 249 days' '51 years 205 days'\n",
      " '62 years 41 days' '58 years 20 days' '61 years 112 days'\n",
      " '66 years 111 days' '64 years 43 days' '56 years 114 days'\n",
      " '77 years 325 days' '85 years 65 days' '77 years 178 days'\n",
      " '63 years 121 days' '76 years 221 days']\n",
      "Race: ['white' 'asian' 'black or african american' '--' 'not reported'\n",
      " 'american indian or alaska native']\n",
      "IDH1: ['MUTATED' 'NOT_MUTATED']\n",
      "TP53: ['NOT_MUTATED' 'MUTATED']\n",
      "ATRX: ['NOT_MUTATED' 'MUTATED']\n",
      "PTEN: ['NOT_MUTATED' 'MUTATED']\n",
      "EGFR: ['NOT_MUTATED' 'MUTATED']\n",
      "CIC: ['NOT_MUTATED' 'MUTATED']\n",
      "MUC16: ['NOT_MUTATED' 'MUTATED']\n",
      "PIK3CA: ['MUTATED' 'NOT_MUTATED']\n",
      "NF1: ['NOT_MUTATED' 'MUTATED']\n",
      "PIK3R1: ['NOT_MUTATED' 'MUTATED']\n",
      "FUBP1: ['MUTATED' 'NOT_MUTATED']\n",
      "RB1: ['NOT_MUTATED' 'MUTATED']\n",
      "NOTCH1: ['NOT_MUTATED' 'MUTATED']\n",
      "BCOR: ['NOT_MUTATED' 'MUTATED']\n",
      "CSMD3: ['NOT_MUTATED' 'MUTATED']\n",
      "SMARCA4: ['NOT_MUTATED' 'MUTATED']\n",
      "GRIN2A: ['NOT_MUTATED' 'MUTATED']\n",
      "IDH2: ['NOT_MUTATED' 'MUTATED']\n",
      "FAT4: ['NOT_MUTATED' 'MUTATED']\n",
      "PDGFRA: ['NOT_MUTATED' 'MUTATED']\n"
     ]
    }
   ],
   "source": [
    "# Display unique values to see if there is some 'special' values\n",
    "for column in dataset.columns:\n",
    "    print(f\"{column}: {dataset[column].unique()}\")"
   ]
  },
  {
   "cell_type": "markdown",
   "id": "234838b8-94b3-4827-84d5-618092ed28b9",
   "metadata": {
    "id": "234838b8-94b3-4827-84d5-618092ed28b9"
   },
   "source": [
    "We can see that :\n",
    "- The columns \"Gender\", \"Age_at_diagnosis\" and \"Race\" has '--' values\n",
    "- The column Race has 'not reported' values\n",
    "- The column \"Age_at_diagnosis\" has a value without 'days'\n",
    "\n",
    "To deal with 'empty' values ('--', 'not reported'), we can either remove the rows or/and do imputation (impute missing values with the most frequent value).\n",
    "We will also create a function to transform the Age_at_diagnosis column into numericals values."
   ]
  },
  {
   "cell_type": "code",
   "execution_count": 257,
   "id": "d9a195eb-178a-413b-a057-d8797f07fa63",
   "metadata": {
    "id": "d9a195eb-178a-413b-a057-d8797f07fa63"
   },
   "outputs": [],
   "source": [
    "# Extract the numerical value from the age column\n",
    "def extract_age(age):\n",
    "    if 'years' in age and 'days' in age:\n",
    "        splitting = age.split(' ')\n",
    "        years = int(splitting[0])\n",
    "        days = int(splitting[2])\n",
    "        return years + days/365\n",
    "    elif 'years' in age:\n",
    "        years = int(age.split(' ')[0])\n",
    "        return years\n",
    "    else:\n",
    "        return None\n",
    "\n",
    "# Drop rows that contain '--' for Gender and Age\n",
    "dataset = dataset.drop(dataset[dataset['Gender'] == '--'].index)\n",
    "dataset = dataset.drop(dataset[dataset['Age_at_diagnosis'] == '--'].index)\n",
    "# Apply the function on the Age column\n",
    "dataset['Age_at_diagnosis'] = dataset['Age_at_diagnosis'].apply(extract_age)\n",
    "\n",
    "# Impute \"not reported\" values with the most frequent value\n",
    "dataset['Race'] = dataset['Race'].replace('not reported',np.nan)\n",
    "from sklearn.impute import SimpleImputer\n",
    "imputer = SimpleImputer(strategy='most_frequent')\n",
    "dataset[['Race']] = imputer.fit_transform(dataset[['Race']])"
   ]
  },
  {
   "cell_type": "code",
   "execution_count": 258,
   "id": "15b9be8c-c616-4bda-8ec2-cb6ff62d603e",
   "metadata": {
    "colab": {
     "base_uri": "https://localhost:8080/",
     "height": 1000
    },
    "id": "15b9be8c-c616-4bda-8ec2-cb6ff62d603e",
    "outputId": "309ac2de-890e-4b19-e88d-17c07a4633e7"
   },
   "outputs": [
    {
     "name": "stderr",
     "output_type": "stream",
     "text": [
      "<ipython-input-258-74ba3d80aca7>:12: FutureWarning: \n",
      "\n",
      "Passing `palette` without assigning `hue` is deprecated and will be removed in v0.14.0. Assign the `x` variable to `hue` and set `legend=False` for the same effect.\n",
      "\n",
      "  sns.countplot(x='Gender', data=dataset, palette='Set1')\n",
      "<ipython-input-258-74ba3d80aca7>:18: FutureWarning: \n",
      "\n",
      "Passing `palette` without assigning `hue` is deprecated and will be removed in v0.14.0. Assign the `x` variable to `hue` and set `legend=False` for the same effect.\n",
      "\n",
      "  sns.countplot(x='Race', data=dataset, palette='Set1')\n",
      "<ipython-input-258-74ba3d80aca7>:23: FutureWarning: \n",
      "\n",
      "Passing `palette` without assigning `hue` is deprecated and will be removed in v0.14.0. Assign the `x` variable to `hue` and set `legend=False` for the same effect.\n",
      "\n",
      "  sns.countplot(x='Grade', data=dataset, palette='Set1')\n"
     ]
    },
    {
     "data": {
      "image/png": "[encoded data removed]",
      "text/plain": [
       "<Figure size 2000x2000 with 4 Axes>"
      ]
     },
     "metadata": {},
     "output_type": "display_data"
    }
   ],
   "source": [
    "import seaborn as sns\n",
    "\n",
    "plt.figure(figsize=(20, 20))\n",
    "\n",
    "plt.subplot(3, 2, 1)\n",
    "sns.histplot(dataset['Age_at_diagnosis'], bins=20, kde=True, color='salmon')\n",
    "plt.xlabel('Age')\n",
    "plt.ylabel('Frequency')\n",
    "plt.title('Histogram of Age at Diagnosis')\n",
    "\n",
    "plt.subplot(3, 2, 2)\n",
    "sns.countplot(x='Gender', data=dataset, palette='Set1')\n",
    "plt.xlabel('Gender')\n",
    "plt.xlabel('Gender')\n",
    "plt.title('Distribution of Gender')\n",
    "\n",
    "plt.subplot(3, 2, 3)\n",
    "sns.countplot(x='Race', data=dataset, palette='Set1')\n",
    "plt.xlabel('Race')\n",
    "plt.title('Distribution of Race')\n",
    "\n",
    "plt.subplot(3, 2, 4)\n",
    "sns.countplot(x='Grade', data=dataset, palette='Set1')\n",
    "plt.xlabel('Grade')\n",
    "plt.title('Distribution of Grade')\n",
    "\n",
    "\n",
    "plt.tight_layout()\n",
    "plt.show()"
   ]
  },
  {
   "cell_type": "markdown",
   "id": "dbd1a343-2cb3-42d6-8486-d159730c261c",
   "metadata": {
    "id": "dbd1a343-2cb3-42d6-8486-d159730c261c"
   },
   "source": [
    "The dependant variable is : ['Grade']\n",
    "The categorials columns are :  the 20 genes, ['Gender'], ['Race']\n",
    "The continious columns are : ['Age_at_diagnosis']"
   ]
  },
  {
   "cell_type": "code",
   "execution_count": 259,
   "id": "37e038bf-de84-47c1-9888-85e9aed01fdd",
   "metadata": {
    "colab": {
     "base_uri": "https://localhost:8080/"
    },
    "id": "37e038bf-de84-47c1-9888-85e9aed01fdd",
    "outputId": "4f58531c-39e7-4df0-9d6f-22dd73919050"
   },
   "outputs": [
    {
     "name": "stdout",
     "output_type": "stream",
     "text": [
      "[['Male' 51.295890410958904 'white' ... 'NOT_MUTATED' 'NOT_MUTATED'\n",
      "  'NOT_MUTATED']\n",
      " ['Male' 38.71506849315068 'white' ... 'NOT_MUTATED' 'NOT_MUTATED'\n",
      "  'NOT_MUTATED']\n",
      " ['Male' 35.16986301369863 'white' ... 'NOT_MUTATED' 'NOT_MUTATED'\n",
      "  'NOT_MUTATED']\n",
      " ...\n",
      " ['Female' 77.4876712328767 'white' ... 'NOT_MUTATED' 'NOT_MUTATED'\n",
      "  'NOT_MUTATED']\n",
      " ['Male' 63.33150684931507 'white' ... 'NOT_MUTATED' 'NOT_MUTATED'\n",
      "  'NOT_MUTATED']\n",
      " ['Male' 76.6054794520548 'black or african american' ... 'NOT_MUTATED'\n",
      "  'NOT_MUTATED' 'NOT_MUTATED']]\n"
     ]
    }
   ],
   "source": [
    "# Independant variable\n",
    "X = dataset.iloc[:, 2:-1].values\n",
    "print(X)\n",
    "# Dependant variable\n",
    "y = dataset.iloc[:, 1].values\n",
    "#print(y)"
   ]
  },
  {
   "cell_type": "code",
   "execution_count": 260,
   "id": "2c454718-95a0-4b53-92ce-66b3aaf98d86",
   "metadata": {
    "id": "2c454718-95a0-4b53-92ce-66b3aaf98d86"
   },
   "outputs": [],
   "source": [
    "# Encoding the Dependent Variable\n",
    "from sklearn.preprocessing import OneHotEncoder\n",
    "encoder = OneHotEncoder()\n",
    "y = encoder.fit_transform(y.reshape(-1, 1)).toarray()"
   ]
  },
  {
   "cell_type": "code",
   "execution_count": 261,
   "id": "3a6bc6a5-9d36-4d90-b25d-363c57e67a34",
   "metadata": {
    "colab": {
     "base_uri": "https://localhost:8080/"
    },
    "id": "3a6bc6a5-9d36-4d90-b25d-363c57e67a34",
    "outputId": "7ca88b86-e3f4-484e-a711-699cac89923b"
   },
   "outputs": [
    {
     "name": "stdout",
     "output_type": "stream",
     "text": [
      "[0.0 1.0 0.0 0.0 0.0 1.0 1.0 0.0 0.0 1.0 0.0 1.0 0.0 1.0 0.0 1.0 0.0 1.0\n",
      " 0.0 1.0 1.0 0.0 0.0 1.0 0.0 1.0 1.0 0.0 0.0 1.0 0.0 1.0 0.0 1.0 0.0 1.0\n",
      " 0.0 1.0 0.0 1.0 0.0 1.0 0.0 1.0 51.295890410958904]\n"
     ]
    }
   ],
   "source": [
    "# Encoding the Independent Variable with OneHotEncoder\n",
    "from sklearn.compose import ColumnTransformer\n",
    "from sklearn.preprocessing import OneHotEncoder\n",
    "ct = ColumnTransformer(transformers=[('encoder', OneHotEncoder(), [0,2,3,4,5,6,7,8,9,10,11,12,13,14,15,16,17,18,19,20,21])], remainder='passthrough')\n",
    "X = np.array(ct.fit_transform(X))\n",
    "print(X[0])\n"
   ]
  },
  {
   "cell_type": "markdown",
   "id": "89733458-c4a9-4fbc-9c0b-6bc595d2aa35",
   "metadata": {
    "id": "89733458-c4a9-4fbc-9c0b-6bc595d2aa35"
   },
   "source": [
    "### Data Splitting"
   ]
  },
  {
   "cell_type": "code",
   "execution_count": 262,
   "id": "b1c74fa8-a753-436d-b31c-22c3b76df140",
   "metadata": {
    "colab": {
     "base_uri": "https://localhost:8080/"
    },
    "id": "b1c74fa8-a753-436d-b31c-22c3b76df140",
    "outputId": "1638951c-75b0-4a0e-ebdd-05edd63b3a03"
   },
   "outputs": [
    {
     "name": "stdout",
     "output_type": "stream",
     "text": [
      "[[0.0 1.0 0.0 ... 0.0 1.0 35.16986301369863]\n",
      " [0.0 1.0 0.0 ... 0.0 1.0 61.30684931506849]\n",
      " [1.0 0.0 0.0 ... 0.0 1.0 44.57260273972603]\n",
      " ...\n",
      " [0.0 1.0 0.0 ... 0.0 1.0 78.25479452054795]\n",
      " [1.0 0.0 0.0 ... 0.0 1.0 52.652054794520545]\n",
      " [0.0 1.0 0.0 ... 0.0 1.0 48.5013698630137]]\n"
     ]
    }
   ],
   "source": [
    "# Splitting the dataset into the Training set and Test set\n",
    "from sklearn.model_selection import train_test_split\n",
    "X_train, X_test, y_train, y_test = train_test_split(X, y, test_size = 0.20, random_state = 0)\n",
    "print(X_train)\n",
    "#print(y_train)\n",
    "#print(X_test)\n",
    "#print(y_test)"
   ]
  },
  {
   "cell_type": "markdown",
   "id": "0bdade07-25fe-4a26-809e-605b84b1e379",
   "metadata": {
    "id": "0bdade07-25fe-4a26-809e-605b84b1e379"
   },
   "source": [
    "### Apply feature scaling"
   ]
  },
  {
   "cell_type": "code",
   "execution_count": 263,
   "id": "dce37dcd-768b-4b56-98a2-c1b9ffcaaabb",
   "metadata": {
    "colab": {
     "base_uri": "https://localhost:8080/"
    },
    "id": "dce37dcd-768b-4b56-98a2-c1b9ffcaaabb",
    "outputId": "f3dcde29-04e4-4278-e653-74ae5984b7dd"
   },
   "outputs": [
    {
     "name": "stdout",
     "output_type": "stream",
     "text": [
      "[[-0.85815739  0.85815739 -0.03860457 ... -0.15109947  0.15109947\n",
      "  -0.97665231]\n",
      " [-0.85815739  0.85815739 -0.03860457 ... -0.15109947  0.15109947\n",
      "   0.69156567]\n",
      " [ 1.16528741 -1.16528741 -0.03860457 ... -0.15109947  0.15109947\n",
      "  -0.37651351]\n",
      " ...\n",
      " [-0.85815739  0.85815739 -0.03860457 ... -0.15109947  0.15109947\n",
      "   1.77328437]\n",
      " [ 1.16528741 -1.16528741 -0.03860457 ... -0.15109947  0.15109947\n",
      "   0.13916519]\n",
      " [-0.85815739  0.85815739 -0.03860457 ... -0.15109947  0.15109947\n",
      "  -0.12575622]]\n",
      "[[-0.85815739  0.85815739 -0.03860457 ... -0.15109947  0.15109947\n",
      "   0.26751655]\n",
      " [-0.85815739  0.85815739 -0.03860457 ...  6.61815684 -6.61815684\n",
      "  -0.62499755]\n",
      " [ 1.16528741 -1.16528741 -0.03860457 ... -0.15109947  0.15109947\n",
      "  -0.12593109]\n",
      " ...\n",
      " [ 1.16528741 -1.16528741 -0.03860457 ... -0.15109947  0.15109947\n",
      "   1.19657757]\n",
      " [-0.85815739  0.85815739 -0.03860457 ... -0.15109947  0.15109947\n",
      "   0.35494936]\n",
      " [-0.85815739  0.85815739 -0.03860457 ... -0.15109947  0.15109947\n",
      "  -0.43159618]]\n"
     ]
    }
   ],
   "source": [
    "# Feature Scaling\n",
    "from sklearn.preprocessing import StandardScaler\n",
    "sc = StandardScaler()\n",
    "X_train = sc.fit_transform(X_train)\n",
    "X_test = sc.transform(X_test)\n",
    "print(X_train)\n",
    "print(X_test)"
   ]
  },
  {
   "cell_type": "markdown",
   "id": "39c52458-1ccc-485a-913b-6103edbdc2c8",
   "metadata": {
    "id": "39c52458-1ccc-485a-913b-6103edbdc2c8"
   },
   "source": [
    "### Build ANN classifier using Keras\n"
   ]
  },
  {
   "cell_type": "code",
   "execution_count": 265,
   "id": "146baa1f-5361-4dd1-baea-b61de92c9670",
   "metadata": {
    "colab": {
     "base_uri": "https://localhost:8080/"
    },
    "id": "146baa1f-5361-4dd1-baea-b61de92c9670",
    "outputId": "ac51099d-f6e4-43af-9d05-7923aa8425cc"
   },
   "outputs": [
    {
     "name": "stdout",
     "output_type": "stream",
     "text": [
      "45\n",
      "Model: \"sequential_1\"\n",
      "_________________________________________________________________\n",
      " Layer (type)                Output Shape              Param #   \n",
      "=================================================================\n",
      " dense_6 (Dense)             (None, 256)               11776     \n",
      "                                                                 \n",
      " dropout_4 (Dropout)         (None, 256)               0         \n",
      "                                                                 \n",
      " dense_7 (Dense)             (None, 64)                16448     \n",
      "                                                                 \n",
      " dropout_5 (Dropout)         (None, 64)                0         \n",
      "                                                                 \n",
      " dense_8 (Dense)             (None, 2)                 130       \n",
      "                                                                 \n",
      "=================================================================\n",
      "Total params: 28354 (110.76 KB)\n",
      "Trainable params: 28354 (110.76 KB)\n",
      "Non-trainable params: 0 (0.00 Byte)\n",
      "_________________________________________________________________\n"
     ]
    }
   ],
   "source": [
    "import keras\n",
    "from keras import layers\n",
    "\n",
    "# Build the model (sequential)\n",
    "\n",
    "input = X_train.shape[1]\n",
    "\n",
    "num_output = len(np.unique(y))\n",
    "\n",
    "\n",
    "model = keras.Sequential(\n",
    "    [\n",
    "        keras.Input(shape=input),\n",
    "        layers.Dense(256, activation=\"relu\"),\n",
    "        layers.Dropout(0.5),\n",
    "        layers.Dense(64, activation=\"relu\"),\n",
    "        layers.Dropout(0.5),\n",
    "        layers.Dense(num_output, activation=\"softmax\"),\n",
    "    ]\n",
    ")\n",
    "model.summary()"
   ]
  },
  {
   "cell_type": "markdown",
   "id": "7376298d-63ad-4b91-b7f8-7ac4e3c42875",
   "metadata": {
    "id": "7376298d-63ad-4b91-b7f8-7ac4e3c42875"
   },
   "source": [
    "Train and model fitting"
   ]
  },
  {
   "cell_type": "code",
   "execution_count": 266,
   "id": "a2e8cab3-6d13-45e1-93a8-8a8a431887fe",
   "metadata": {
    "colab": {
     "base_uri": "https://localhost:8080/"
    },
    "id": "a2e8cab3-6d13-45e1-93a8-8a8a431887fe",
    "outputId": "dfe54b6b-da65-43f5-881f-b8aefd890432"
   },
   "outputs": [
    {
     "name": "stdout",
     "output_type": "stream",
     "text": [
      "Epoch 1/25\n",
      "8/8 [==============================] - 1s 34ms/step - loss: 0.8032 - accuracy: 0.5238 - val_loss: 0.5188 - val_accuracy: 0.7143\n",
      "Epoch 2/25\n",
      "8/8 [==============================] - 0s 12ms/step - loss: 0.5901 - accuracy: 0.7103 - val_loss: 0.4131 - val_accuracy: 0.8750\n",
      "Epoch 3/25\n",
      "8/8 [==============================] - 0s 10ms/step - loss: 0.5147 - accuracy: 0.7976 - val_loss: 0.3719 - val_accuracy: 0.8631\n"
     ]
    },
    {
     "name": "stderr",
     "output_type": "stream",
     "text": [
      "/usr/local/lib/python3.10/dist-packages/keras/src/engine/training.py:3103: UserWarning: You are saving your model as an HDF5 file via `model.save()`. This file format is considered legacy. We recommend using instead the native Keras format, e.g. `model.save('my_model.keras')`.\n",
      "  saving_api.save_model(\n"
     ]
    },
    {
     "name": "stdout",
     "output_type": "stream",
     "text": [
      "Epoch 4/25\n",
      "8/8 [==============================] - 0s 10ms/step - loss: 0.4475 - accuracy: 0.8234 - val_loss: 0.3476 - val_accuracy: 0.8690\n",
      "Epoch 5/25\n",
      "8/8 [==============================] - 0s 9ms/step - loss: 0.3889 - accuracy: 0.8552 - val_loss: 0.3320 - val_accuracy: 0.8690\n",
      "Epoch 6/25\n",
      "8/8 [==============================] - 0s 12ms/step - loss: 0.4085 - accuracy: 0.8492 - val_loss: 0.3261 - val_accuracy: 0.8690\n",
      "Epoch 7/25\n",
      "8/8 [==============================] - 0s 11ms/step - loss: 0.3784 - accuracy: 0.8492 - val_loss: 0.3215 - val_accuracy: 0.8750\n",
      "Epoch 8/25\n",
      "8/8 [==============================] - 0s 7ms/step - loss: 0.3749 - accuracy: 0.8472 - val_loss: 0.3215 - val_accuracy: 0.8750\n",
      "Epoch 9/25\n",
      "8/8 [==============================] - 0s 8ms/step - loss: 0.3576 - accuracy: 0.8591 - val_loss: 0.3216 - val_accuracy: 0.8750\n",
      "Epoch 10/25\n",
      "8/8 [==============================] - 0s 11ms/step - loss: 0.3512 - accuracy: 0.8730 - val_loss: 0.3200 - val_accuracy: 0.8810\n",
      "Epoch 11/25\n",
      "8/8 [==============================] - 0s 12ms/step - loss: 0.3561 - accuracy: 0.8651 - val_loss: 0.3142 - val_accuracy: 0.8869\n",
      "Epoch 12/25\n",
      "8/8 [==============================] - 0s 7ms/step - loss: 0.3168 - accuracy: 0.8929 - val_loss: 0.3167 - val_accuracy: 0.8869\n",
      "Epoch 13/25\n",
      "8/8 [==============================] - 0s 7ms/step - loss: 0.3362 - accuracy: 0.8730 - val_loss: 0.3175 - val_accuracy: 0.8929\n",
      "Epoch 14/25\n",
      "8/8 [==============================] - 0s 8ms/step - loss: 0.3107 - accuracy: 0.8810 - val_loss: 0.3192 - val_accuracy: 0.8929\n",
      "Epoch 15/25\n",
      "8/8 [==============================] - 0s 7ms/step - loss: 0.3411 - accuracy: 0.8750 - val_loss: 0.3195 - val_accuracy: 0.8929\n",
      "Epoch 16/25\n",
      "8/8 [==============================] - 0s 8ms/step - loss: 0.3121 - accuracy: 0.8750 - val_loss: 0.3183 - val_accuracy: 0.8869\n",
      "Epoch 17/25\n",
      "8/8 [==============================] - 0s 8ms/step - loss: 0.3065 - accuracy: 0.8770 - val_loss: 0.3221 - val_accuracy: 0.8810\n",
      "Epoch 18/25\n",
      "8/8 [==============================] - 0s 10ms/step - loss: 0.2882 - accuracy: 0.8889 - val_loss: 0.3242 - val_accuracy: 0.8810\n",
      "Epoch 19/25\n",
      "8/8 [==============================] - 0s 9ms/step - loss: 0.2943 - accuracy: 0.8750 - val_loss: 0.3207 - val_accuracy: 0.8810\n",
      "Epoch 20/25\n",
      "8/8 [==============================] - 0s 9ms/step - loss: 0.3066 - accuracy: 0.8690 - val_loss: 0.3191 - val_accuracy: 0.8750\n",
      "Epoch 21/25\n",
      "8/8 [==============================] - 0s 7ms/step - loss: 0.2998 - accuracy: 0.8869 - val_loss: 0.3174 - val_accuracy: 0.8810\n"
     ]
    }
   ],
   "source": [
    "batch_size = 64\n",
    "epochs = 25\n",
    "\n",
    "# Callbacks\n",
    "\n",
    "callbacks=[keras.callbacks.EarlyStopping(patience=10),\n",
    "           keras.callbacks.ModelCheckpoint(\"mnist_model.h5\", save_best_only=True)]\n",
    "\n",
    "\n",
    "# step 1 compilation\n",
    "model.compile(loss=\"categorical_crossentropy\", optimizer=\"adam\", metrics=[\"accuracy\"])\n",
    "\n",
    "# step 2 model fitting\n",
    "\n",
    "history = model.fit(X_train, y_train, batch_size=batch_size, epochs=epochs, validation_split=0.25, callbacks = callbacks)"
   ]
  },
  {
   "cell_type": "markdown",
   "id": "c2485d48-b8ca-43b4-b9a4-c363cc5da715",
   "metadata": {
    "id": "c2485d48-b8ca-43b4-b9a4-c363cc5da715"
   },
   "source": [
    "### Predicting the Test set results"
   ]
  },
  {
   "cell_type": "code",
   "execution_count": 267,
   "id": "cf49bd68-9a37-4f0f-b076-a1ab88b7340e",
   "metadata": {
    "colab": {
     "base_uri": "https://localhost:8080/"
    },
    "id": "cf49bd68-9a37-4f0f-b076-a1ab88b7340e",
    "outputId": "485cad5e-bdb1-43b1-994a-465e9a7ce1ad"
   },
   "outputs": [
    {
     "name": "stdout",
     "output_type": "stream",
     "text": [
      "6/6 [==============================] - 0s 3ms/step - loss: 0.3409 - accuracy: 0.8580\n"
     ]
    },
    {
     "data": {
      "text/plain": [
       "[0.34085357189178467, 0.857988178730011]"
      ]
     },
     "execution_count": 267,
     "metadata": {},
     "output_type": "execute_result"
    }
   ],
   "source": [
    "model.evaluate(X_test, y_test)"
   ]
  },
  {
   "cell_type": "markdown",
   "id": "jGg84O3A2xBL",
   "metadata": {
    "id": "jGg84O3A2xBL"
   },
   "source": [
    "### Using Keras Tuner"
   ]
  },
  {
   "cell_type": "code",
   "execution_count": 269,
   "id": "M0989f04zoZe",
   "metadata": {
    "colab": {
     "base_uri": "https://localhost:8080/"
    },
    "id": "M0989f04zoZe",
    "outputId": "686aa626-1484-49b3-e815-ef150cd9ef71"
   },
   "outputs": [
    {
     "name": "stdout",
     "output_type": "stream",
     "text": [
      "Reloading Tuner from ./untitled_project/tuner0.json\n"
     ]
    }
   ],
   "source": [
    "import keras_tuner as kt\n",
    "\n",
    "import keras\n",
    "import keras_tuner as kt\n",
    "from keras import layers\n",
    "\n",
    "# Define the model builder function\n",
    "def model_builder(hp):\n",
    "    input_shape = X_train.shape[1]\n",
    "    num_classes = len(np.unique(y_train))\n",
    "\n",
    "    input = layers.Input(shape=input_shape)\n",
    "    x = layers.Dense(hp.Int('units_1', min_value=32, max_value=512, step=32), activation=\"relu\")(input)\n",
    "    x = layers.Dropout(hp.Float('dropout_1', min_value=0.2, max_value=0.5, step=0.1))(x)\n",
    "    x = layers.Dense(hp.Int('units_2', min_value=32, max_value=512, step=32), activation=\"relu\")(x)\n",
    "    x = layers.Dropout(hp.Float('dropout_2', min_value=0.2, max_value=0.5, step=0.1))(x)\n",
    "    output = layers.Dense(num_classes, activation=\"softmax\")(x)\n",
    "\n",
    "    model = keras.models.Model(input, output)\n",
    "    model.compile(loss=\"categorical_crossentropy\", optimizer=\"adam\", metrics=[\"accuracy\"])\n",
    "    return model\n",
    "\n",
    "# Initialize the tuner\n",
    "tuner = kt.RandomSearch(\n",
    "    model_builder,\n",
    "    objective='val_loss',\n",
    "    max_trials=3)\n",
    "\n",
    "\n"
   ]
  },
  {
   "cell_type": "code",
   "execution_count": 270,
   "id": "mnv_GMNW0Mqh",
   "metadata": {
    "colab": {
     "base_uri": "https://localhost:8080/"
    },
    "id": "mnv_GMNW0Mqh",
    "outputId": "101de1d3-1921-4d14-fd96-981b820816d1"
   },
   "outputs": [
    {
     "name": "stdout",
     "output_type": "stream",
     "text": [
      "Model: \"model\"\n",
      "_________________________________________________________________\n",
      " Layer (type)                Output Shape              Param #   \n",
      "=================================================================\n",
      " input_1 (InputLayer)        [(None, 45)]              0         \n",
      "                                                                 \n",
      " dense (Dense)               (None, 288)               13248     \n",
      "                                                                 \n",
      " dropout (Dropout)           (None, 288)               0         \n",
      "                                                                 \n",
      " dense_1 (Dense)             (None, 256)               73984     \n",
      "                                                                 \n",
      " dropout_1 (Dropout)         (None, 256)               0         \n",
      "                                                                 \n",
      " dense_2 (Dense)             (None, 2)                 514       \n",
      "                                                                 \n",
      "=================================================================\n",
      "Total params: 87746 (342.76 KB)\n",
      "Trainable params: 87746 (342.76 KB)\n",
      "Non-trainable params: 0 (0.00 Byte)\n",
      "_________________________________________________________________\n",
      "{'units_1': 288, 'dropout_1': 0.30000000000000004, 'units_2': 256, 'dropout_2': 0.30000000000000004}\n"
     ]
    }
   ],
   "source": [
    "# Perform the hyperparameter search\n",
    "tuner.search(X_train, y_train, epochs=10, validation_split=0.25)\n",
    "\n",
    "best_model = tuner.get_best_models()[0]\n",
    "best_model.summary()\n",
    "\n",
    "# Get the best hyperparameters\n",
    "\n",
    "\n",
    "best_params = tuner.get_best_hyperparameters()[0].values\n",
    "print(best_params)"
   ]
  },
  {
   "cell_type": "markdown",
   "id": "QrxTHAlC3BtK",
   "metadata": {
    "id": "QrxTHAlC3BtK"
   },
   "source": [
    "The best parameters are :\n",
    "*   units_1 : 288\n",
    "*   dropout_1 : 0.3\n",
    "*   units_2 : 256\n",
    "*   dropout_2 : 0.3\n",
    "\n",
    "\n",
    "\n",
    "\n",
    "\n"
   ]
  },
  {
   "cell_type": "code",
   "execution_count": 271,
   "id": "JZc5za5K3Sn6",
   "metadata": {
    "colab": {
     "base_uri": "https://localhost:8080/"
    },
    "id": "JZc5za5K3Sn6",
    "outputId": "081aa6b0-22d2-4a3e-f75a-5110a73842f8"
   },
   "outputs": [
    {
     "name": "stderr",
     "output_type": "stream",
     "text": [
      "WARNING:tensorflow:Detecting that an object or model or tf.train.Checkpoint is being deleted with unrestored values. See the following logs for the specific values in question. To silence these warnings, use `status.expect_partial()`. See https://www.tensorflow.org/api_docs/python/tf/train/Checkpoint#restorefor details about the status object returned by the restore function.\n",
      "WARNING:tensorflow:Value in checkpoint could not be found in the restored object: (root).optimizer._variables.1\n",
      "WARNING:tensorflow:Value in checkpoint could not be found in the restored object: (root).optimizer._variables.2\n",
      "WARNING:tensorflow:Value in checkpoint could not be found in the restored object: (root).optimizer._variables.3\n",
      "WARNING:tensorflow:Value in checkpoint could not be found in the restored object: (root).optimizer._variables.4\n",
      "WARNING:tensorflow:Value in checkpoint could not be found in the restored object: (root).optimizer._variables.5\n",
      "WARNING:tensorflow:Value in checkpoint could not be found in the restored object: (root).optimizer._variables.6\n",
      "WARNING:tensorflow:Value in checkpoint could not be found in the restored object: (root).optimizer._variables.7\n",
      "WARNING:tensorflow:Value in checkpoint could not be found in the restored object: (root).optimizer._variables.8\n",
      "WARNING:tensorflow:Value in checkpoint could not be found in the restored object: (root).optimizer._variables.9\n",
      "WARNING:tensorflow:Value in checkpoint could not be found in the restored object: (root).optimizer._variables.10\n",
      "WARNING:tensorflow:Value in checkpoint could not be found in the restored object: (root).optimizer._variables.11\n",
      "WARNING:tensorflow:Value in checkpoint could not be found in the restored object: (root).optimizer._variables.12\n"
     ]
    },
    {
     "name": "stdout",
     "output_type": "stream",
     "text": [
      "Model: \"sequential\"\n",
      "_________________________________________________________________\n",
      " Layer (type)                Output Shape              Param #   \n",
      "=================================================================\n",
      " dense_3 (Dense)             (None, 288)               13248     \n",
      "                                                                 \n",
      " dropout_2 (Dropout)         (None, 288)               0         \n",
      "                                                                 \n",
      " dense_4 (Dense)             (None, 256)               73984     \n",
      "                                                                 \n",
      " dropout_3 (Dropout)         (None, 256)               0         \n",
      "                                                                 \n",
      " dense_5 (Dense)             (None, 2)                 514       \n",
      "                                                                 \n",
      "=================================================================\n",
      "Total params: 87746 (342.76 KB)\n",
      "Trainable params: 87746 (342.76 KB)\n",
      "Non-trainable params: 0 (0.00 Byte)\n",
      "_________________________________________________________________\n"
     ]
    }
   ],
   "source": [
    "# Build the best model\n",
    "\n",
    "model2 = keras.Sequential(\n",
    "    [\n",
    "        keras.Input(shape=X_train.shape[1]),\n",
    "        layers.Dense(288, activation=\"relu\"),\n",
    "        layers.Dropout(0.3),\n",
    "        layers.Dense(256, activation=\"relu\"),\n",
    "        layers.Dropout(0.3),\n",
    "        layers.Dense(num_output, activation=\"softmax\"),\n",
    "    ]\n",
    ")\n",
    "model2.summary()"
   ]
  },
  {
   "cell_type": "code",
   "execution_count": 272,
   "id": "IJb0En_B3uQe",
   "metadata": {
    "colab": {
     "base_uri": "https://localhost:8080/"
    },
    "id": "IJb0En_B3uQe",
    "outputId": "df22b50e-33dd-4ce0-b28b-fdab76606b97"
   },
   "outputs": [
    {
     "name": "stdout",
     "output_type": "stream",
     "text": [
      "Epoch 1/25\n",
      "8/8 [==============================] - 3s 29ms/step - loss: 0.6102 - accuracy: 0.6925 - val_loss: 0.3726 - val_accuracy: 0.8512\n",
      "Epoch 2/25\n",
      "8/8 [==============================] - 0s 8ms/step - loss: 0.4077 - accuracy: 0.8591 - val_loss: 0.3346 - val_accuracy: 0.8750\n",
      "Epoch 3/25\n",
      "8/8 [==============================] - 0s 9ms/step - loss: 0.3473 - accuracy: 0.8790 - val_loss: 0.3151 - val_accuracy: 0.8810\n",
      "Epoch 4/25\n",
      "8/8 [==============================] - 0s 7ms/step - loss: 0.3129 - accuracy: 0.8810 - val_loss: 0.3188 - val_accuracy: 0.8988\n",
      "Epoch 5/25\n",
      "8/8 [==============================] - 0s 7ms/step - loss: 0.2939 - accuracy: 0.8810 - val_loss: 0.3298 - val_accuracy: 0.8869\n",
      "Epoch 6/25\n",
      "8/8 [==============================] - 0s 7ms/step - loss: 0.3014 - accuracy: 0.8810 - val_loss: 0.3207 - val_accuracy: 0.8690\n",
      "Epoch 7/25\n",
      "8/8 [==============================] - 0s 10ms/step - loss: 0.2959 - accuracy: 0.8810 - val_loss: 0.3076 - val_accuracy: 0.8750\n",
      "Epoch 8/25\n",
      "8/8 [==============================] - 0s 8ms/step - loss: 0.2896 - accuracy: 0.8889 - val_loss: 0.3192 - val_accuracy: 0.8512\n",
      "Epoch 9/25\n",
      "8/8 [==============================] - 0s 9ms/step - loss: 0.2820 - accuracy: 0.8829 - val_loss: 0.3088 - val_accuracy: 0.8690\n",
      "Epoch 10/25\n",
      "8/8 [==============================] - 0s 9ms/step - loss: 0.2646 - accuracy: 0.8988 - val_loss: 0.3331 - val_accuracy: 0.8571\n",
      "Epoch 11/25\n",
      "8/8 [==============================] - 0s 9ms/step - loss: 0.2756 - accuracy: 0.8968 - val_loss: 0.3186 - val_accuracy: 0.8631\n",
      "Epoch 12/25\n",
      "8/8 [==============================] - 0s 9ms/step - loss: 0.2565 - accuracy: 0.8968 - val_loss: 0.3190 - val_accuracy: 0.8571\n",
      "Epoch 13/25\n",
      "8/8 [==============================] - 0s 10ms/step - loss: 0.2648 - accuracy: 0.8929 - val_loss: 0.3370 - val_accuracy: 0.8631\n",
      "Epoch 14/25\n",
      "8/8 [==============================] - 0s 22ms/step - loss: 0.2382 - accuracy: 0.9127 - val_loss: 0.3369 - val_accuracy: 0.8631\n",
      "Epoch 15/25\n",
      "8/8 [==============================] - 0s 12ms/step - loss: 0.2422 - accuracy: 0.9107 - val_loss: 0.3326 - val_accuracy: 0.8512\n",
      "Epoch 16/25\n",
      "8/8 [==============================] - 0s 14ms/step - loss: 0.2431 - accuracy: 0.9008 - val_loss: 0.3437 - val_accuracy: 0.8512\n",
      "Epoch 17/25\n",
      "8/8 [==============================] - 0s 19ms/step - loss: 0.2377 - accuracy: 0.8988 - val_loss: 0.3339 - val_accuracy: 0.8571\n"
     ]
    }
   ],
   "source": [
    "# step 1 compilation\n",
    "model2.compile(loss=\"categorical_crossentropy\", optimizer=\"adam\", metrics=[\"accuracy\"])\n",
    "\n",
    "# step 2 model fitting\n",
    "\n",
    "history = model2.fit(X_train, y_train, batch_size=batch_size, epochs=epochs, validation_split=0.25, callbacks = callbacks)\n"
   ]
  },
  {
   "cell_type": "markdown",
   "id": "HeuP4vh58edb",
   "metadata": {
    "id": "HeuP4vh58edb"
   },
   "source": [
    "Predicting with best parameters"
   ]
  },
  {
   "cell_type": "code",
   "execution_count": 273,
   "id": "aSC7-9YV4qe3",
   "metadata": {
    "colab": {
     "base_uri": "https://localhost:8080/"
    },
    "id": "aSC7-9YV4qe3",
    "outputId": "3c4456aa-de15-48ce-a55a-2c0971652b6c"
   },
   "outputs": [
    {
     "name": "stdout",
     "output_type": "stream",
     "text": [
      "6/6 [==============================] - 0s 6ms/step - loss: 0.3655 - accuracy: 0.8639\n"
     ]
    },
    {
     "data": {
      "text/plain": [
       "[0.365487664937973, 0.8639053106307983]"
      ]
     },
     "execution_count": 273,
     "metadata": {},
     "output_type": "execute_result"
    }
   ],
   "source": [
    "# step 3 : predicting\n",
    "\n",
    "model2.evaluate(X_test, y_test)"
   ]
  }
 ],
 "metadata": {
  "accelerator": "GPU",
  "colab": {
   "gpuType": "T4",
   "provenance": []
  },
  "kernelspec": {
   "display_name": "Python 3 (ipykernel)",
   "language": "python",
   "name": "python3"
  },
  "language_info": {
   "codemirror_mode": {
    "name": "ipython",
    "version": 3
   },
   "file_extension": ".py",
   "mimetype": "text/x-python",
   "name": "python",
   "nbconvert_exporter": "python",
   "pygments_lexer": "ipython3",
   "version": "3.11.5"
  }
 },
 "nbformat": 4,
 "nbformat_minor": 5
}
